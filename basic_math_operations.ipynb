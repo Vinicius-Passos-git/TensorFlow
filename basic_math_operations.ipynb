{
 "metadata": {
  "language_info": {
   "codemirror_mode": {
    "name": "ipython",
    "version": 3
   },
   "file_extension": ".py",
   "mimetype": "text/x-python",
   "name": "python",
   "nbconvert_exporter": "python",
   "pygments_lexer": "ipython3",
   "version": "3.8.3-final"
  },
  "orig_nbformat": 2,
  "kernelspec": {
   "name": "Python 3.8.3 64-bit ('base': conda)",
   "display_name": "Python 3.8.3 64-bit ('base': conda)",
   "metadata": {
    "interpreter": {
     "hash": "6c1e1dc993528b01ea0560a49e19c0e55ea625de972d398fe3046f8c57ef6008"
    }
   }
  }
 },
 "nbformat": 4,
 "nbformat_minor": 2,
 "cells": [
  {
   "cell_type": "code",
   "execution_count": 1,
   "metadata": {},
   "outputs": [],
   "source": [
    "import tensorflow as tf\n",
    "tf.compat.v1.disable_eager_execution() #open session"
   ]
  },
  {
   "cell_type": "code",
   "execution_count": 13,
   "metadata": {},
   "outputs": [],
   "source": [
    "#Functions with math operators\n",
    "a = tf.constant([3., 3., 2.])\n",
    "b = tf.constant([2., 2., 2.])"
   ]
  },
  {
   "cell_type": "code",
   "execution_count": 19,
   "metadata": {},
   "outputs": [
    {
     "output_type": "stream",
     "name": "stdout",
     "text": [
      "[5. 5. 4.]\n[1. 1. 0.]\n[6. 6. 4.]\n[1.5 1.5 1. ]\n16.0\n"
     ]
    }
   ],
   "source": [
    "#sum, diff, prod, quot\n",
    "sum = tf.add(a, b)\n",
    "diff = tf.subtract(a, b)\n",
    "prod = tf.multiply(a, b)\n",
    "quot = tf.divide(a, b)\n",
    "dot = tf.tensordot(a, b, 1)\n",
    "\n",
    "with tf.compat.v1.Session() as sess:\n",
    "    print(sess.run(sum))\n",
    "    print(sess.run(diff))\n",
    "    print(sess.run(prod))\n",
    "    print(sess.run(quot))\n",
    "    print(sess.run(dot))"
   ]
  },
  {
   "cell_type": "code",
   "execution_count": null,
   "metadata": {},
   "outputs": [],
   "source": []
  }
 ]
}