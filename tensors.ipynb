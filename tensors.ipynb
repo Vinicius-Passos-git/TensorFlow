{
 "metadata": {
  "language_info": {
   "codemirror_mode": {
    "name": "ipython",
    "version": 3
   },
   "file_extension": ".py",
   "mimetype": "text/x-python",
   "name": "python",
   "nbconvert_exporter": "python",
   "pygments_lexer": "ipython3",
   "version": "3.8.3-final"
  },
  "orig_nbformat": 2,
  "kernelspec": {
   "name": "Python 3.8.3 64-bit ('base': conda)",
   "display_name": "Python 3.8.3 64-bit ('base': conda)",
   "metadata": {
    "interpreter": {
     "hash": "6c1e1dc993528b01ea0560a49e19c0e55ea625de972d398fe3046f8c57ef6008"
    }
   }
  }
 },
 "nbformat": 4,
 "nbformat_minor": 2,
 "cells": [
  {
   "cell_type": "code",
   "execution_count": 38,
   "metadata": {},
   "outputs": [],
   "source": [
    "#import libraries\n",
    "import tensorflow as tf\n",
    "tf.compat.v1.disable_eager_execution() #open session"
   ]
  },
  {
   "cell_type": "code",
   "execution_count": 4,
   "metadata": {},
   "outputs": [
    {
     "output_type": "stream",
     "name": "stdout",
     "text": [
      "[1 2 3 4 5]\n"
     ]
    }
   ],
   "source": [
    "#tensor constant\n",
    "t1 = tf.constant([1,2,3,4,5])\n",
    "with tf.compat.v1.Session() as sess:\n",
    "    print(sess.run(t1))"
   ]
  },
  {
   "cell_type": "code",
   "execution_count": 6,
   "metadata": {},
   "outputs": [
    {
     "output_type": "stream",
     "name": "stdout",
     "text": [
      "[[1 2 3]\n [4 5 6]]\n"
     ]
    }
   ],
   "source": [
    "#tensor constant multidimensional\n",
    "t2 = tf.constant([[1,2,3], [4,5,6]])\n",
    "with tf.compat.v1.Session() as sess:\n",
    "    print(sess.run(t2))"
   ]
  },
  {
   "cell_type": "code",
   "execution_count": 8,
   "metadata": {},
   "outputs": [
    {
     "output_type": "stream",
     "name": "stdout",
     "text": [
      "[0. 0. 0.]\n"
     ]
    }
   ],
   "source": [
    "#tensors with 0\n",
    "zero_tensor = tf.zeros([3])\n",
    "with tf.compat.v1.Session() as sess:\n",
    "    print(sess.run(zero_tensor))"
   ]
  },
  {
   "cell_type": "code",
   "execution_count": 10,
   "metadata": {},
   "outputs": [
    {
     "output_type": "stream",
     "name": "stdout",
     "text": [
      "[[1. 1. 1. 1.]\n [1. 1. 1. 1.]\n [1. 1. 1. 1.]\n [1. 1. 1. 1.]]\n"
     ]
    }
   ],
   "source": [
    "#tensor with 1 (matrix 4x4)\n",
    "one_tensor = tf.ones([4,4])\n",
    "with tf.compat.v1.Session() as sess:\n",
    "    print(sess.run(one_tensor))"
   ]
  },
  {
   "cell_type": "code",
   "execution_count": 26,
   "metadata": {},
   "outputs": [
    {
     "output_type": "execute_result",
     "data": {
      "text/plain": [
       "<tf.Tensor 'Fill_12:0' shape=(2, 3) dtype=float32>"
      ]
     },
     "metadata": {},
     "execution_count": 26
    }
   ],
   "source": [
    "#fill tensor\n",
    "#structure tf.fill([shape], value)\n",
    "fill_tensor = tf.fill([2,3], 34.0)\n",
    "fill_tensor"
   ]
  },
  {
   "cell_type": "code",
   "execution_count": 27,
   "metadata": {},
   "outputs": [
    {
     "output_type": "stream",
     "name": "stdout",
     "text": [
      "[[34. 34. 34.]\n [34. 34. 34.]]\n"
     ]
    }
   ],
   "source": [
    "with tf.compat.v1.Session() as sess:\n",
    "    print(sess.run(fill_tensor))"
   ]
  },
  {
   "cell_type": "code",
   "execution_count": 29,
   "metadata": {},
   "outputs": [
    {
     "output_type": "stream",
     "name": "stdout",
     "text": [
      "[5. 6. 7. 8. 9.]\n"
     ]
    }
   ],
   "source": [
    "#Sequencies\n",
    "lin_tensor = tf.linspace(start=5., stop=9., num=5)\n",
    "with tf.compat.v1.Session() as sess:\n",
    "    print(sess.run(lin_tensor))"
   ]
  },
  {
   "cell_type": "code",
   "execution_count": 41,
   "metadata": {},
   "outputs": [
    {
     "output_type": "stream",
     "name": "stdout",
     "text": [
      "[3.  3.5 4.  4.5 5.  5.5 6.  6.5]\n"
     ]
    }
   ],
   "source": [
    "#range\n",
    "range_tensor = tf.range(start = 3., limit=7., delta = 0.5)\n",
    "with tf.compat.v1.Session() as sess:\n",
    "    print(sess.run(range_tensor))"
   ]
  },
  {
   "cell_type": "code",
   "execution_count": 49,
   "metadata": {},
   "outputs": [
    {
     "output_type": "stream",
     "name": "stdout",
     "text": [
      "[ 2.15947533 -0.85258956 -0.61436244 -0.81744459 -0.41950755 -1.02776284\n -0.48258672 -1.1135425  -1.6963816  -0.74405798]\n"
     ]
    }
   ],
   "source": [
    "#random variables\n",
    "rnd_tensor = tf.random.normal([10], dtype = tf.float64)\n",
    "with tf.compat.v1.Session() as sess:\n",
    "    print(sess.run(rnd_tensor))"
   ]
  },
  {
   "cell_type": "code",
   "execution_count": null,
   "metadata": {},
   "outputs": [],
   "source": []
  }
 ]
}